{
 "cells": [
  {
   "cell_type": "code",
   "execution_count": 1,
   "metadata": {},
   "outputs": [],
   "source": [
    "%load_ext autoreload\n",
    "%autoreload 2"
   ]
  },
  {
   "cell_type": "code",
   "execution_count": 2,
   "metadata": {},
   "outputs": [],
   "source": [
    "import numpy as np\n",
    "from numpy import linalg as lin\n",
    "from cs771 import plotData as pd, utils, genSyntheticData as gsd\n",
    "import random"
   ]
  },
  {
   "cell_type": "code",
   "execution_count": 3,
   "metadata": {
    "scrolled": false
   },
   "outputs": [],
   "source": [
    "def getGramMatrix( X, Y, kernel, p = 1, c = 0, g = 1.0 ):\n",
    "    # Check if these are 1D datasets\n",
    "    if len( X.shape ) == 1:\n",
    "        X = X[:, np.newaxis]\n",
    "    if len( Y.shape ) == 1:\n",
    "        Y = Y[:, np.newaxis]\n",
    "    if kernel == \"linear\":\n",
    "        return np.matmul( X, Y.T )\n",
    "    elif kernel == \"poly\":\n",
    "        return np.power( np.matmul( X, Y.T ) + c, p )\n",
    "    elif kernel == \"rbf\":\n",
    "        return np.exp( - g * utils.getAllPairsDistances( X, Y ) )\n",
    "\n",
    "# Perform the k-means++ initialization in RKHS in dual form\n",
    "def doKMPPInit( G, k ):\n",
    "    n = X.shape[0]\n",
    "    idx = np.zeros( (k,), dtype = int )\n",
    "    # Find out the squared Hilbertian (essentially Euclidean) norms of the data points in RKHS\n",
    "    norms = np.diag( G )\n",
    "    # Calculate pairwise squared Hilbertian distances in RKHS\n",
    "    D = - 2 * G + norms + norms[:, np.newaxis]\n",
    "    # Choose a random data point and make it a centroid\n",
    "    idx[0] = random.randint( 0, n-1 )\n",
    "    for t in range( 1, k ):\n",
    "        # For all data points, find the squared Hilbertian distance to the closest centroid\n",
    "        dist = np.min( D[:, idx[0:t]], axis = 1 )\n",
    "        # Choose the next centroid to be one that is likely to be far from all currently chosen centroids\n",
    "        probs = dist/np.sum(dist)\n",
    "        # Numerical issues in Python may cause ||x-x||_2 to be not exactly zero\n",
    "        probs[probs < 1e-10] = 0\n",
    "        idx[t] = np.random.choice( np.arange( n ), p = probs )\n",
    "    init = np.zeros( (k, n) )\n",
    "    init[ np.arange(k), idx ] = 1\n",
    "    # The following normalization is vacuous since\n",
    "    # every cluster has just one point at the moment\n",
    "    init / np.sum( init, axis = 1 )[:,np.newaxis]\n",
    "    return init, idx\n",
    "\n",
    "# We know that there are equal number of points per cluster\n",
    "# as well as how these points are stacked - use this privileged\n",
    "# info to sample a point from each cluster\n",
    "# k-means++ should also be able to give such an initialization if \n",
    "# the clusters are indeed well-separated, but after several trials\n",
    "def doCheatInit( G, k ):\n",
    "    n = G.shape[0]\n",
    "    nPerClass = n//k\n",
    "    idx = np.arange( k )*nPerClass + random.randint( 0, nPerClass - 1 )\n",
    "    init = np.zeros( (k, n) )\n",
    "    init[ np.arange(k), idx ] = 1\n",
    "    init / np.sum( init, axis = 1 )[:,np.newaxis]\n",
    "    return init, idx\n",
    "\n",
    "# For every point, return which is the closest centroid in terms of Hilbertian distance\n",
    "def getClosestCentroid( G, alphaVals ):\n",
    "    k = alphaVals.shape[0]\n",
    "    n = G.shape[0]\n",
    "    # Find squared Hilbertian norms of the current centroids\n",
    "    centroidNorms = np.zeros( (k,) )\n",
    "    for i in range( k ):\n",
    "        alphaThisCluster = alphaVals[i,:]\n",
    "        centroidNorms[i] = alphaThisCluster.dot( G.dot( alphaThisCluster ) )\n",
    "    # Find the Hilbertian distance of each point from each centroid\n",
    "    # The first term in the following expression np.diag( G ) is not\n",
    "    # actually required since it does not affect the argmin at all\n",
    "    D = np.zeros( (k, n) )\n",
    "    D = D + np.diag( G ) - 2 * np.matmul( alphaVals, G ) + centroidNorms[:, np.newaxis]\n",
    "    return np.argmin( D, axis = 0 )\n",
    "\n",
    "# Update every centroid to the mean of all data points assigned to that cluster\n",
    "def updateCentroids( G, z, k, prevAlphaVals ):\n",
    "    alphaVals = np.zeros( (k, G.shape[0]) )\n",
    "    for i in range( k ):\n",
    "        if z[z == i].size > 0:\n",
    "            alphaVals[i, z == i] = 1\n",
    "            # Normalize the alpha vector\n",
    "            alphaVals[i,:] = alphaVals[i,:]/np.sum( alphaVals[i,:] )\n",
    "        # If some cluster is empty, return the old value of its centroid\n",
    "        else:\n",
    "            print( \"Warning: empty cluster detected\" )\n",
    "            alphaVals[i,:] = prevAlphaVals[i,:]\n",
    "    if lin.norm( alphaVals - prevAlphaVals, \"fro\" ) < 1e-15:\n",
    "        converged = True\n",
    "        print( \"Converged within \", end = '')\n",
    "    else:\n",
    "        converged = False\n",
    "    return (alphaVals, converged)\n",
    "\n",
    "# Execute the Llyod's algorithm in RKHS\n",
    "def dokmeans( G, k, init, niter ):\n",
    "    alphaVals = init\n",
    "    # Perform alternating minimization for niter steps\n",
    "    for t in range( niter ):\n",
    "        z = getClosestCentroid( G, alphaVals )\n",
    "        alphaVals, conv = updateCentroids( G, z, k, alphaVals )\n",
    "        if conv:\n",
    "            print( t, \"iterations\" )\n",
    "            return (alphaVals, z)\n",
    "    return (alphaVals, z)\n",
    "\n",
    "d = 2\n",
    "n = 100\n",
    "\n",
    "X1 = gsd.genSphericalData( d, n, [0, 0], 10 )\n",
    "X2 = gsd.genSphericalData( d, n, [0, 0], 2)\n",
    "X = np.vstack( (X1, X2) )"
   ]
  },
  {
   "cell_type": "code",
   "execution_count": 4,
   "metadata": {
    "scrolled": false
   },
   "outputs": [
    {
     "name": "stdout",
     "output_type": "stream",
     "text": [
      "Converged within 1 iterations\n"
     ]
    },
    {
     "data": {
      "image/png": "[encoded data removed]",
      "text/plain": [
       "<Figure size 504x504 with 1 Axes>"
      ]
     },
     "metadata": {
      "needs_background": "light"
     },
     "output_type": "display_data"
    }
   ],
   "source": [
    "k = 2\n",
    "\n",
    "G = getGramMatrix( X, X, \"rbf\", p = 2, c = 1, g = 1.0 )\n",
    "\n",
    "# init, idx = doKMPPInit( G, k )\n",
    "# Cheating a bit to reduce the number of trials required\n",
    "# to get good initialization :)\n",
    "init, idx = doCheatInit( G, k )\n",
    "(alphaVals, z) = dokmeans( G, k, init, 100 )\n",
    "\n",
    "fig = pd.getFigure( 7, 7 )\n",
    "pd.plot2D( X[z == 0], fig, size = 50, color = 'r', marker = 'o' )\n",
    "pd.plot2D( X[z == 1], fig, size = 50, color = 'g', marker = 'o' )\n",
    "# Highlight the points used to initialize kernel k-means\n",
    "pd.plot2D( X[idx,:] , fig, size = 200, color = 'k', marker = 'o', empty = True )"
   ]
  },
  {
   "cell_type": "code",
   "execution_count": 5,
   "metadata": {},
   "outputs": [],
   "source": [
    "d = 2\n",
    "n = 100\n",
    "\n",
    "mu1 = np.array( [0,0] )\n",
    "mu2 = np.array( [0,1] )\n",
    "mu3 = np.array( [0,-2] )\n",
    "\n",
    "tmp1 = gsd.genMoonData( d, n, mu1, 1 )\n",
    "tmp2 = gsd.genMoonData( d, n, mu2, 5, flipped = True )\n",
    "tmp3 = gsd.genMoonData( d, n, mu3, 10 )\n",
    "X = np.vstack( (tmp1, tmp2, tmp3) )"
   ]
  },
  {
   "cell_type": "code",
   "execution_count": 11,
   "metadata": {},
   "outputs": [
    {
     "name": "stdout",
     "output_type": "stream",
     "text": [
      "Converged within 10 iterations\n"
     ]
    },
    {
     "data": {
      "image/png": "[encoded data removed]",
      "text/plain": [
       "<Figure size 720x432 with 1 Axes>"
      ]
     },
     "metadata": {
      "needs_background": "light"
     },
     "output_type": "display_data"
    }
   ],
   "source": [
    "k = 3\n",
    "\n",
    "G = getGramMatrix( X, X, \"rbf\", p = 2, c = 1, g = 0.1 )\n",
    "\n",
    "# init, idx = doKMPPInit( G, k )\n",
    "# Cheating a bit to reduce the number of trials required\n",
    "# to get good initialization :)\n",
    "init, idx = doCheatInit( G, k )\n",
    "(alphaVals, z) = dokmeans( G, k, init, 100 )\n",
    "\n",
    "fig = pd.getFigure( 10, 6 )\n",
    "pd.plot2D( X[z == 0], fig, size = 50, color = 'r', marker = 'o' )\n",
    "pd.plot2D( X[z == 1], fig, size = 50, color = 'g', marker = 'o' )\n",
    "pd.plot2D( X[z == 2], fig, size = 50, color = 'b', marker = 'o' )\n",
    "# Highlight the points used to initialize kernel k-means\n",
    "pd.plot2D( X[idx,:] , fig, size = 200, color = 'k', marker = 'o', empty = True )"
   ]
  },
  {
   "cell_type": "code",
   "execution_count": null,
   "metadata": {},
   "outputs": [],
   "source": []
  }
 ],
 "metadata": {
  "author": {
   "email": "purushot@cse.iitk.ac.in",
   "institution": "IIT Kanpur",
   "name": "Puru"
  },
  "kernelspec": {
   "display_name": "Python 3",
   "language": "python",
   "name": "python3"
  },
  "language_info": {
   "codemirror_mode": {
    "name": "ipython",
    "version": 3
   },
   "file_extension": ".py",
   "mimetype": "text/x-python",
   "name": "python",
   "nbconvert_exporter": "python",
   "pygments_lexer": "ipython3",
   "version": "3.7.2"
  }
 },
 "nbformat": 4,
 "nbformat_minor": 2
}
